{
 "cells": [
  {
   "cell_type": "code",
   "execution_count": 78,
   "metadata": {},
   "outputs": [],
   "source": [
    "# %%\n",
    "import numpy as np\n",
    "import pandas as pd\n",
    "from sklearn.preprocessing import OneHotEncoder"
   ]
  },
  {
   "cell_type": "code",
   "execution_count": 79,
   "metadata": {},
   "outputs": [
    {
     "data": {
      "text/html": [
       "<div>\n",
       "<style scoped>\n",
       "    .dataframe tbody tr th:only-of-type {\n",
       "        vertical-align: middle;\n",
       "    }\n",
       "\n",
       "    .dataframe tbody tr th {\n",
       "        vertical-align: top;\n",
       "    }\n",
       "\n",
       "    .dataframe thead th {\n",
       "        text-align: right;\n",
       "    }\n",
       "</style>\n",
       "<table border=\"1\" class=\"dataframe\">\n",
       "  <thead>\n",
       "    <tr style=\"text-align: right;\">\n",
       "      <th></th>\n",
       "      <th>id</th>\n",
       "      <th>s1</th>\n",
       "      <th>s2</th>\n",
       "      <th>s3</th>\n",
       "      <th>s4</th>\n",
       "      <th>disease</th>\n",
       "    </tr>\n",
       "  </thead>\n",
       "  <tbody>\n",
       "    <tr>\n",
       "      <th>0</th>\n",
       "      <td>1</td>\n",
       "      <td>fever</td>\n",
       "      <td>swelling</td>\n",
       "      <td>lumps</td>\n",
       "      <td>persistent_sores</td>\n",
       "      <td>cancer</td>\n",
       "    </tr>\n",
       "    <tr>\n",
       "      <th>1</th>\n",
       "      <td>2</td>\n",
       "      <td>fever</td>\n",
       "      <td>weight_loss</td>\n",
       "      <td>change_in_appetite</td>\n",
       "      <td>dehydration</td>\n",
       "      <td>diabetes</td>\n",
       "    </tr>\n",
       "    <tr>\n",
       "      <th>2</th>\n",
       "      <td>3</td>\n",
       "      <td>fever</td>\n",
       "      <td>lethargy</td>\n",
       "      <td>diarrhea</td>\n",
       "      <td>loss_of_appetite</td>\n",
       "      <td>parvo</td>\n",
       "    </tr>\n",
       "    <tr>\n",
       "      <th>3</th>\n",
       "      <td>4</td>\n",
       "      <td>fever</td>\n",
       "      <td>weight_loss</td>\n",
       "      <td>change_in_appetite</td>\n",
       "      <td>dehydration</td>\n",
       "      <td>diabetes</td>\n",
       "    </tr>\n",
       "    <tr>\n",
       "      <th>4</th>\n",
       "      <td>5</td>\n",
       "      <td>fever</td>\n",
       "      <td>weight_loss</td>\n",
       "      <td>change_in_appetite</td>\n",
       "      <td>dehydration</td>\n",
       "      <td>diabetes</td>\n",
       "    </tr>\n",
       "  </tbody>\n",
       "</table>\n",
       "</div>"
      ],
      "text/plain": [
       "   id     s1           s2                  s3                s4   disease\n",
       "0   1  fever     swelling               lumps  persistent_sores    cancer\n",
       "1   2  fever  weight_loss  change_in_appetite       dehydration  diabetes\n",
       "2   3  fever     lethargy            diarrhea  loss_of_appetite     parvo\n",
       "3   4  fever  weight_loss  change_in_appetite       dehydration  diabetes\n",
       "4   5  fever  weight_loss  change_in_appetite       dehydration  diabetes"
      ]
     },
     "execution_count": 79,
     "metadata": {},
     "output_type": "execute_result"
    }
   ],
   "source": [
    "# %%\n",
    "anonymous_data = pd.read_csv('symtomps_disease.csv')\n",
    "anonymous_data.head()"
   ]
  },
  {
   "cell_type": "code",
   "execution_count": 80,
   "metadata": {},
   "outputs": [
    {
     "data": {
      "text/html": [
       "<div>\n",
       "<style scoped>\n",
       "    .dataframe tbody tr th:only-of-type {\n",
       "        vertical-align: middle;\n",
       "    }\n",
       "\n",
       "    .dataframe tbody tr th {\n",
       "        vertical-align: top;\n",
       "    }\n",
       "\n",
       "    .dataframe thead th {\n",
       "        text-align: right;\n",
       "    }\n",
       "</style>\n",
       "<table border=\"1\" class=\"dataframe\">\n",
       "  <thead>\n",
       "    <tr style=\"text-align: right;\">\n",
       "      <th></th>\n",
       "      <th>id</th>\n",
       "      <th>s1</th>\n",
       "      <th>s2</th>\n",
       "      <th>s3</th>\n",
       "      <th>s4</th>\n",
       "      <th>disease</th>\n",
       "    </tr>\n",
       "  </thead>\n",
       "  <tbody>\n",
       "    <tr>\n",
       "      <th>78</th>\n",
       "      <td>79</td>\n",
       "      <td>nausea</td>\n",
       "      <td>foamy_mouth</td>\n",
       "      <td>hypersensitive</td>\n",
       "      <td>restleness</td>\n",
       "      <td>rabies</td>\n",
       "    </tr>\n",
       "    <tr>\n",
       "      <th>79</th>\n",
       "      <td>80</td>\n",
       "      <td>nausea</td>\n",
       "      <td>foamy_mouth</td>\n",
       "      <td>hypersensitive</td>\n",
       "      <td>restleness</td>\n",
       "      <td>rabies</td>\n",
       "    </tr>\n",
       "    <tr>\n",
       "      <th>80</th>\n",
       "      <td>81</td>\n",
       "      <td>nausea</td>\n",
       "      <td>foamy_mouth</td>\n",
       "      <td>hypersensitive</td>\n",
       "      <td>restleness</td>\n",
       "      <td>rabies</td>\n",
       "    </tr>\n",
       "    <tr>\n",
       "      <th>81</th>\n",
       "      <td>82</td>\n",
       "      <td>nausea</td>\n",
       "      <td>foamy_mouth</td>\n",
       "      <td>hypersensitive</td>\n",
       "      <td>restleness</td>\n",
       "      <td>rabies</td>\n",
       "    </tr>\n",
       "    <tr>\n",
       "      <th>82</th>\n",
       "      <td>83</td>\n",
       "      <td>nausea</td>\n",
       "      <td>foamy_mouth</td>\n",
       "      <td>hypersensitive</td>\n",
       "      <td>restleness</td>\n",
       "      <td>rabies</td>\n",
       "    </tr>\n",
       "  </tbody>\n",
       "</table>\n",
       "</div>"
      ],
      "text/plain": [
       "    id      s1           s2              s3          s4 disease\n",
       "78  79  nausea  foamy_mouth  hypersensitive  restleness  rabies\n",
       "79  80  nausea  foamy_mouth  hypersensitive  restleness  rabies\n",
       "80  81  nausea  foamy_mouth  hypersensitive  restleness  rabies\n",
       "81  82  nausea  foamy_mouth  hypersensitive  restleness  rabies\n",
       "82  83  nausea  foamy_mouth  hypersensitive  restleness  rabies"
      ]
     },
     "execution_count": 80,
     "metadata": {},
     "output_type": "execute_result"
    }
   ],
   "source": [
    "# %%\n",
    "anonymous_data.tail()"
   ]
  },
  {
   "cell_type": "code",
   "execution_count": 81,
   "metadata": {},
   "outputs": [
    {
     "data": {
      "text/plain": [
       "id          int64\n",
       "s1         object\n",
       "s2         object\n",
       "s3         object\n",
       "s4         object\n",
       "disease    object\n",
       "dtype: object"
      ]
     },
     "execution_count": 81,
     "metadata": {},
     "output_type": "execute_result"
    }
   ],
   "source": [
    "# %%\n",
    "anonymous_data.dtypes"
   ]
  },
  {
   "cell_type": "code",
   "execution_count": 82,
   "metadata": {},
   "outputs": [
    {
     "data": {
      "text/plain": [
       "array(['fever', 'vomiting', 'skin_infection', 'nausea', 'listleness',\n",
       "       'bad_breath', 'refuse_eat_dryfood', 'ear_canal_redness',\n",
       "       'diff_pain_urinating', 'weight_loss'], dtype=object)"
      ]
     },
     "execution_count": 82,
     "metadata": {},
     "output_type": "execute_result"
    }
   ],
   "source": [
    "# %%\n",
    "anonymous_data['s1'].unique()"
   ]
  },
  {
   "cell_type": "code",
   "execution_count": 83,
   "metadata": {},
   "outputs": [
    {
     "data": {
      "text/plain": [
       "array(['swelling', 'weight_loss', 'lethargy', 'foamy_mouth',\n",
       "       'nasal_discharge', 'loose_teeth', 'bad_breath', 'scabs_around_ear',\n",
       "       'inc_freq_urination', 'anemia', 'enlarged_lymph_nodes',\n",
       "       'listleness'], dtype=object)"
      ]
     },
     "execution_count": 83,
     "metadata": {},
     "output_type": "execute_result"
    }
   ],
   "source": [
    "anonymous_data['s2'].unique()"
   ]
  },
  {
   "cell_type": "code",
   "execution_count": 84,
   "metadata": {},
   "outputs": [
    {
     "data": {
      "text/plain": [
       "array(['lumps', 'change_in_appetite', 'diarrhea', 'hypersensitive',\n",
       "       'vomiting', 'honking_sound', 'refuse_eat_dryfood',\n",
       "       'mouth_blood_discharge', 'hair_loss_around_ear', 'blood_in_urine',\n",
       "       'gingivitis', 'jaundice', 'coughing'], dtype=object)"
      ]
     },
     "execution_count": 84,
     "metadata": {},
     "output_type": "execute_result"
    }
   ],
   "source": [
    "anonymous_data['s3'].unique()"
   ]
  },
  {
   "cell_type": "code",
   "execution_count": 85,
   "metadata": {},
   "outputs": [
    {
     "data": {
      "text/plain": [
       "array(['persistent_sores', 'dehydration', 'loss_of_appetite',\n",
       "       'restleness', 'aggression', 'coughing', 'gagging',\n",
       "       'mouth_blood_discharge', 'loose_teeth', 'balance_issues',\n",
       "       'excessive_licking_genital_area', 'stomatitis', 'Abcesses',\n",
       "       'vomiting'], dtype=object)"
      ]
     },
     "execution_count": 85,
     "metadata": {},
     "output_type": "execute_result"
    }
   ],
   "source": [
    "anonymous_data['s4'].unique()"
   ]
  },
  {
   "cell_type": "code",
   "execution_count": 86,
   "metadata": {},
   "outputs": [
    {
     "data": {
      "text/plain": [
       "array(['cancer', 'diabetes', 'parvo', 'rabies', 'heartworm',\n",
       "       'kennel_cough', 'dental', 'ear_infection', 'FLUTD', 'FIV', 'FeIV'],\n",
       "      dtype=object)"
      ]
     },
     "execution_count": 86,
     "metadata": {},
     "output_type": "execute_result"
    }
   ],
   "source": [
    "# %%\n",
    "anonymous_data['disease'].unique()"
   ]
  },
  {
   "cell_type": "code",
   "execution_count": 87,
   "metadata": {},
   "outputs": [
    {
     "name": "stdout",
     "output_type": "stream",
     "text": [
      "OneHotEncoder()\n"
     ]
    }
   ],
   "source": [
    "# %%\n",
    "OHE =OneHotEncoder()\n",
    "print(OHE)"
   ]
  },
  {
   "cell_type": "code",
   "execution_count": 88,
   "metadata": {},
   "outputs": [
    {
     "data": {
      "text/plain": [
       "array([[0., 0., 0., ..., 0., 0., 0.],\n",
       "       [0., 0., 0., ..., 0., 0., 0.],\n",
       "       [0., 0., 0., ..., 0., 1., 0.],\n",
       "       ...,\n",
       "       [0., 0., 0., ..., 0., 0., 1.],\n",
       "       [0., 0., 0., ..., 0., 0., 1.],\n",
       "       [0., 0., 0., ..., 0., 0., 1.]])"
      ]
     },
     "execution_count": 88,
     "metadata": {},
     "output_type": "execute_result"
    }
   ],
   "source": [
    "# %%\n",
    "OHE.fit_transform(anonymous_data[['s1', 'disease']]).toarray()"
   ]
  },
  {
   "cell_type": "code",
   "execution_count": 89,
   "metadata": {},
   "outputs": [
    {
     "data": {
      "text/plain": [
       "array([[0., 0., 0., ..., 0., 0., 0.],\n",
       "       [0., 0., 0., ..., 0., 0., 0.],\n",
       "       [0., 0., 0., ..., 0., 1., 0.],\n",
       "       ...,\n",
       "       [0., 0., 0., ..., 0., 0., 1.],\n",
       "       [0., 0., 0., ..., 0., 0., 1.],\n",
       "       [0., 0., 0., ..., 0., 0., 1.]])"
      ]
     },
     "execution_count": 89,
     "metadata": {},
     "output_type": "execute_result"
    }
   ],
   "source": [
    "OHE.fit_transform(anonymous_data[['s2', 'disease']]).toarray()"
   ]
  },
  {
   "cell_type": "code",
   "execution_count": 90,
   "metadata": {},
   "outputs": [
    {
     "data": {
      "text/plain": [
       "array([[0., 0., 0., ..., 0., 0., 0.],\n",
       "       [0., 1., 0., ..., 0., 0., 0.],\n",
       "       [0., 0., 0., ..., 0., 1., 0.],\n",
       "       ...,\n",
       "       [0., 0., 0., ..., 0., 0., 1.],\n",
       "       [0., 0., 0., ..., 0., 0., 1.],\n",
       "       [0., 0., 0., ..., 0., 0., 1.]])"
      ]
     },
     "execution_count": 90,
     "metadata": {},
     "output_type": "execute_result"
    }
   ],
   "source": [
    "OHE.fit_transform(anonymous_data[['s3', 'disease']]).toarray()"
   ]
  },
  {
   "cell_type": "code",
   "execution_count": 91,
   "metadata": {},
   "outputs": [
    {
     "data": {
      "text/plain": [
       "array([[0., 0., 0., ..., 0., 0., 0.],\n",
       "       [0., 0., 0., ..., 0., 0., 0.],\n",
       "       [0., 0., 0., ..., 0., 1., 0.],\n",
       "       ...,\n",
       "       [0., 0., 0., ..., 0., 0., 1.],\n",
       "       [0., 0., 0., ..., 0., 0., 1.],\n",
       "       [0., 0., 0., ..., 0., 0., 1.]])"
      ]
     },
     "execution_count": 91,
     "metadata": {},
     "output_type": "execute_result"
    }
   ],
   "source": [
    "OHE.fit_transform(anonymous_data[['s4', 'disease']]).toarray()"
   ]
  },
  {
   "cell_type": "code",
   "execution_count": 92,
   "metadata": {},
   "outputs": [
    {
     "data": {
      "text/plain": [
       "[array(['bad_breath', 'diff_pain_urinating', 'ear_canal_redness', 'fever',\n",
       "        'listleness', 'nausea', 'refuse_eat_dryfood', 'skin_infection',\n",
       "        'vomiting', 'weight_loss'], dtype=object),\n",
       " array(['anemia', 'bad_breath', 'enlarged_lymph_nodes', 'foamy_mouth',\n",
       "        'inc_freq_urination', 'lethargy', 'listleness', 'loose_teeth',\n",
       "        'nasal_discharge', 'scabs_around_ear', 'swelling', 'weight_loss'],\n",
       "       dtype=object),\n",
       " array(['blood_in_urine', 'change_in_appetite', 'coughing', 'diarrhea',\n",
       "        'gingivitis', 'hair_loss_around_ear', 'honking_sound',\n",
       "        'hypersensitive', 'jaundice', 'lumps', 'mouth_blood_discharge',\n",
       "        'refuse_eat_dryfood', 'vomiting'], dtype=object),\n",
       " array(['Abcesses', 'aggression', 'balance_issues', 'coughing',\n",
       "        'dehydration', 'excessive_licking_genital_area', 'gagging',\n",
       "        'loose_teeth', 'loss_of_appetite', 'mouth_blood_discharge',\n",
       "        'persistent_sores', 'restleness', 'stomatitis', 'vomiting'],\n",
       "       dtype=object),\n",
       " array(['FIV', 'FLUTD', 'FeIV', 'cancer', 'dental', 'diabetes',\n",
       "        'ear_infection', 'heartworm', 'kennel_cough', 'parvo', 'rabies'],\n",
       "       dtype=object)]"
      ]
     },
     "execution_count": 92,
     "metadata": {},
     "output_type": "execute_result"
    }
   ],
   "source": [
    "f_array = OHE.fit_transform(anonymous_data[['s1','s2','s3','s4', 'disease']]).toarray()\n",
    "OHE.categories_"
   ]
  },
  {
   "cell_type": "code",
   "execution_count": 93,
   "metadata": {},
   "outputs": [],
   "source": [
    "# %%\n",
    "\n",
    "f_labels = OHE.categories_"
   ]
  },
  {
   "cell_type": "code",
   "execution_count": 94,
   "metadata": {},
   "outputs": [
    {
     "name": "stderr",
     "output_type": "stream",
     "text": [
      "C:\\Users\\Danil Jeus Ampatin\\AppData\\Local\\Temp\\ipykernel_13948\\2535540723.py:2: VisibleDeprecationWarning: Creating an ndarray from ragged nested sequences (which is a list-or-tuple of lists-or-tuples-or ndarrays with different lengths or shapes) is deprecated. If you meant to do this, you must specify 'dtype=object' when creating the ndarray.\n",
      "  np.array(f_labels).ravel()\n"
     ]
    },
    {
     "data": {
      "text/plain": [
       "array([array(['bad_breath', 'diff_pain_urinating', 'ear_canal_redness', 'fever',\n",
       "              'listleness', 'nausea', 'refuse_eat_dryfood', 'skin_infection',\n",
       "              'vomiting', 'weight_loss'], dtype=object)                         ,\n",
       "       array(['anemia', 'bad_breath', 'enlarged_lymph_nodes', 'foamy_mouth',\n",
       "              'inc_freq_urination', 'lethargy', 'listleness', 'loose_teeth',\n",
       "              'nasal_discharge', 'scabs_around_ear', 'swelling', 'weight_loss'],\n",
       "             dtype=object)                                                      ,\n",
       "       array(['blood_in_urine', 'change_in_appetite', 'coughing', 'diarrhea',\n",
       "              'gingivitis', 'hair_loss_around_ear', 'honking_sound',\n",
       "              'hypersensitive', 'jaundice', 'lumps', 'mouth_blood_discharge',\n",
       "              'refuse_eat_dryfood', 'vomiting'], dtype=object)               ,\n",
       "       array(['Abcesses', 'aggression', 'balance_issues', 'coughing',\n",
       "              'dehydration', 'excessive_licking_genital_area', 'gagging',\n",
       "              'loose_teeth', 'loss_of_appetite', 'mouth_blood_discharge',\n",
       "              'persistent_sores', 'restleness', 'stomatitis', 'vomiting'],\n",
       "             dtype=object)                                                ,\n",
       "       array(['FIV', 'FLUTD', 'FeIV', 'cancer', 'dental', 'diabetes',\n",
       "              'ear_infection', 'heartworm', 'kennel_cough', 'parvo', 'rabies'],\n",
       "             dtype=object)                                                     ],\n",
       "      dtype=object)"
      ]
     },
     "execution_count": 94,
     "metadata": {},
     "output_type": "execute_result"
    }
   ],
   "source": [
    "# %%\n",
    "np.array(f_labels).ravel()"
   ]
  },
  {
   "cell_type": "code",
   "execution_count": 95,
   "metadata": {},
   "outputs": [
    {
     "name": "stdout",
     "output_type": "stream",
     "text": [
      "[array(['bad_breath', 'diff_pain_urinating', 'ear_canal_redness', 'fever',\n",
      "        'listleness', 'nausea', 'refuse_eat_dryfood', 'skin_infection',\n",
      "        'vomiting', 'weight_loss'], dtype=object)\n",
      " array(['anemia', 'bad_breath', 'enlarged_lymph_nodes', 'foamy_mouth',\n",
      "        'inc_freq_urination', 'lethargy', 'listleness', 'loose_teeth',\n",
      "        'nasal_discharge', 'scabs_around_ear', 'swelling', 'weight_loss'],\n",
      "       dtype=object)\n",
      " array(['blood_in_urine', 'change_in_appetite', 'coughing', 'diarrhea',\n",
      "        'gingivitis', 'hair_loss_around_ear', 'honking_sound',\n",
      "        'hypersensitive', 'jaundice', 'lumps', 'mouth_blood_discharge',\n",
      "        'refuse_eat_dryfood', 'vomiting'], dtype=object)\n",
      " array(['Abcesses', 'aggression', 'balance_issues', 'coughing',\n",
      "        'dehydration', 'excessive_licking_genital_area', 'gagging',\n",
      "        'loose_teeth', 'loss_of_appetite', 'mouth_blood_discharge',\n",
      "        'persistent_sores', 'restleness', 'stomatitis', 'vomiting'],\n",
      "       dtype=object)\n",
      " array(['FIV', 'FLUTD', 'FeIV', 'cancer', 'dental', 'diabetes',\n",
      "        'ear_infection', 'heartworm', 'kennel_cough', 'parvo', 'rabies'],\n",
      "       dtype=object)                                                     ]\n"
     ]
    },
    {
     "name": "stderr",
     "output_type": "stream",
     "text": [
      "C:\\Users\\Danil Jeus Ampatin\\AppData\\Local\\Temp\\ipykernel_13948\\373947979.py:2: VisibleDeprecationWarning: Creating an ndarray from ragged nested sequences (which is a list-or-tuple of lists-or-tuples-or ndarrays with different lengths or shapes) is deprecated. If you meant to do this, you must specify 'dtype=object' when creating the ndarray.\n",
      "  f_labels = np.array(f_labels).ravel()\n"
     ]
    }
   ],
   "source": [
    "# %%\n",
    "f_labels = np.array(f_labels).ravel()\n",
    "print(f_labels)"
   ]
  },
  {
   "cell_type": "code",
   "execution_count": 96,
   "metadata": {},
   "outputs": [
    {
     "ename": "TypeError",
     "evalue": "__init__() got an unexpected keyword argument 'cols'",
     "output_type": "error",
     "traceback": [
      "\u001b[1;31m---------------------------------------------------------------------------\u001b[0m",
      "\u001b[1;31mTypeError\u001b[0m                                 Traceback (most recent call last)",
      "\u001b[1;32md:\\Visual Code\\OHE_symtomps_data.ipynb Cell 19\u001b[0m in \u001b[0;36m<cell line: 2>\u001b[1;34m()\u001b[0m\n\u001b[0;32m      <a href='vscode-notebook-cell:/d%3A/Visual%20Code/OHE_symtomps_data.ipynb#X24sZmlsZQ%3D%3D?line=0'>1</a>\u001b[0m \u001b[39m# %%\u001b[39;00m\n\u001b[1;32m----> <a href='vscode-notebook-cell:/d%3A/Visual%20Code/OHE_symtomps_data.ipynb#X24sZmlsZQ%3D%3D?line=1'>2</a>\u001b[0m pd\u001b[39m.\u001b[39;49mDataFrame(f_array,cols\u001b[39m=\u001b[39;49mf_labels)\n",
      "\u001b[1;31mTypeError\u001b[0m: __init__() got an unexpected keyword argument 'cols'"
     ]
    }
   ],
   "source": [
    "# %%\n",
    "pd.DataFrame(f_array,columns=f_labels)"
   ]
  },
  {
   "cell_type": "code",
   "execution_count": null,
   "metadata": {},
   "outputs": [
    {
     "ename": "ValueError",
     "evalue": "Shape of passed values is (83, 60), indices imply (83, 5)",
     "output_type": "error",
     "traceback": [
      "\u001b[1;31m---------------------------------------------------------------------------\u001b[0m",
      "\u001b[1;31mValueError\u001b[0m                                Traceback (most recent call last)",
      "\u001b[1;32md:\\Visual Code\\OHE_symtomps_data.ipynb Cell 20\u001b[0m in \u001b[0;36m<cell line: 2>\u001b[1;34m()\u001b[0m\n\u001b[0;32m      <a href='vscode-notebook-cell:/d%3A/Visual%20Code/OHE_symtomps_data.ipynb#X25sZmlsZQ%3D%3D?line=0'>1</a>\u001b[0m \u001b[39m# %%\u001b[39;00m\n\u001b[1;32m----> <a href='vscode-notebook-cell:/d%3A/Visual%20Code/OHE_symtomps_data.ipynb#X25sZmlsZQ%3D%3D?line=1'>2</a>\u001b[0m features \u001b[39m=\u001b[39m pd\u001b[39m.\u001b[39;49mDataFrame(f_array,columns\u001b[39m=\u001b[39;49mf_labels)\n\u001b[0;32m      <a href='vscode-notebook-cell:/d%3A/Visual%20Code/OHE_symtomps_data.ipynb#X25sZmlsZQ%3D%3D?line=3'>4</a>\u001b[0m \u001b[39mprint\u001b[39m(features)\n",
      "File \u001b[1;32md:\\Anaconda\\lib\\site-packages\\pandas\\core\\frame.py:694\u001b[0m, in \u001b[0;36mDataFrame.__init__\u001b[1;34m(self, data, index, columns, dtype, copy)\u001b[0m\n\u001b[0;32m    684\u001b[0m         mgr \u001b[39m=\u001b[39m dict_to_mgr(\n\u001b[0;32m    685\u001b[0m             \u001b[39m# error: Item \"ndarray\" of \"Union[ndarray, Series, Index]\" has no\u001b[39;00m\n\u001b[0;32m    686\u001b[0m             \u001b[39m# attribute \"name\"\u001b[39;00m\n\u001b[1;32m   (...)\u001b[0m\n\u001b[0;32m    691\u001b[0m             typ\u001b[39m=\u001b[39mmanager,\n\u001b[0;32m    692\u001b[0m         )\n\u001b[0;32m    693\u001b[0m     \u001b[39melse\u001b[39;00m:\n\u001b[1;32m--> 694\u001b[0m         mgr \u001b[39m=\u001b[39m ndarray_to_mgr(\n\u001b[0;32m    695\u001b[0m             data,\n\u001b[0;32m    696\u001b[0m             index,\n\u001b[0;32m    697\u001b[0m             columns,\n\u001b[0;32m    698\u001b[0m             dtype\u001b[39m=\u001b[39;49mdtype,\n\u001b[0;32m    699\u001b[0m             copy\u001b[39m=\u001b[39;49mcopy,\n\u001b[0;32m    700\u001b[0m             typ\u001b[39m=\u001b[39;49mmanager,\n\u001b[0;32m    701\u001b[0m         )\n\u001b[0;32m    703\u001b[0m \u001b[39m# For data is list-like, or Iterable (will consume into list)\u001b[39;00m\n\u001b[0;32m    704\u001b[0m \u001b[39melif\u001b[39;00m is_list_like(data):\n",
      "File \u001b[1;32md:\\Anaconda\\lib\\site-packages\\pandas\\core\\internals\\construction.py:351\u001b[0m, in \u001b[0;36mndarray_to_mgr\u001b[1;34m(values, index, columns, dtype, copy, typ)\u001b[0m\n\u001b[0;32m    346\u001b[0m \u001b[39m# _prep_ndarray ensures that values.ndim == 2 at this point\u001b[39;00m\n\u001b[0;32m    347\u001b[0m index, columns \u001b[39m=\u001b[39m _get_axes(\n\u001b[0;32m    348\u001b[0m     values\u001b[39m.\u001b[39mshape[\u001b[39m0\u001b[39m], values\u001b[39m.\u001b[39mshape[\u001b[39m1\u001b[39m], index\u001b[39m=\u001b[39mindex, columns\u001b[39m=\u001b[39mcolumns\n\u001b[0;32m    349\u001b[0m )\n\u001b[1;32m--> 351\u001b[0m _check_values_indices_shape_match(values, index, columns)\n\u001b[0;32m    353\u001b[0m \u001b[39mif\u001b[39;00m typ \u001b[39m==\u001b[39m \u001b[39m\"\u001b[39m\u001b[39marray\u001b[39m\u001b[39m\"\u001b[39m:\n\u001b[0;32m    355\u001b[0m     \u001b[39mif\u001b[39;00m \u001b[39missubclass\u001b[39m(values\u001b[39m.\u001b[39mdtype\u001b[39m.\u001b[39mtype, \u001b[39mstr\u001b[39m):\n",
      "File \u001b[1;32md:\\Anaconda\\lib\\site-packages\\pandas\\core\\internals\\construction.py:422\u001b[0m, in \u001b[0;36m_check_values_indices_shape_match\u001b[1;34m(values, index, columns)\u001b[0m\n\u001b[0;32m    420\u001b[0m passed \u001b[39m=\u001b[39m values\u001b[39m.\u001b[39mshape\n\u001b[0;32m    421\u001b[0m implied \u001b[39m=\u001b[39m (\u001b[39mlen\u001b[39m(index), \u001b[39mlen\u001b[39m(columns))\n\u001b[1;32m--> 422\u001b[0m \u001b[39mraise\u001b[39;00m \u001b[39mValueError\u001b[39;00m(\u001b[39mf\u001b[39m\u001b[39m\"\u001b[39m\u001b[39mShape of passed values is \u001b[39m\u001b[39m{\u001b[39;00mpassed\u001b[39m}\u001b[39;00m\u001b[39m, indices imply \u001b[39m\u001b[39m{\u001b[39;00mimplied\u001b[39m}\u001b[39;00m\u001b[39m\"\u001b[39m)\n",
      "\u001b[1;31mValueError\u001b[0m: Shape of passed values is (83, 60), indices imply (83, 5)"
     ]
    }
   ],
   "source": [
    "# %%\n",
    "features = pd.DataFrame(f_array,columns=f_labels)\n",
    "\n",
    "print(features)"
   ]
  },
  {
   "cell_type": "code",
   "execution_count": null,
   "metadata": {},
   "outputs": [
    {
     "ename": "NameError",
     "evalue": "name 'features' is not defined",
     "output_type": "error",
     "traceback": [
      "\u001b[1;31m---------------------------------------------------------------------------\u001b[0m",
      "\u001b[1;31mNameError\u001b[0m                                 Traceback (most recent call last)",
      "\u001b[1;32md:\\Visual Code\\OHE_symtomps_data.ipynb Cell 21\u001b[0m in \u001b[0;36m<cell line: 2>\u001b[1;34m()\u001b[0m\n\u001b[0;32m      <a href='vscode-notebook-cell:/d%3A/Visual%20Code/OHE_symtomps_data.ipynb#X26sZmlsZQ%3D%3D?line=0'>1</a>\u001b[0m \u001b[39m# %%\u001b[39;00m\n\u001b[1;32m----> <a href='vscode-notebook-cell:/d%3A/Visual%20Code/OHE_symtomps_data.ipynb#X26sZmlsZQ%3D%3D?line=1'>2</a>\u001b[0m features\u001b[39m.\u001b[39mhead()\n",
      "\u001b[1;31mNameError\u001b[0m: name 'features' is not defined"
     ]
    }
   ],
   "source": [
    "# %%\n",
    "features.head()"
   ]
  },
  {
   "cell_type": "code",
   "execution_count": null,
   "metadata": {},
   "outputs": [
    {
     "ename": "NameError",
     "evalue": "name 'features' is not defined",
     "output_type": "error",
     "traceback": [
      "\u001b[1;31m---------------------------------------------------------------------------\u001b[0m",
      "\u001b[1;31mNameError\u001b[0m                                 Traceback (most recent call last)",
      "\u001b[1;32md:\\Visual Code\\OHE_symtomps_data.ipynb Cell 22\u001b[0m in \u001b[0;36m<cell line: 2>\u001b[1;34m()\u001b[0m\n\u001b[0;32m      <a href='vscode-notebook-cell:/d%3A/Visual%20Code/OHE_symtomps_data.ipynb#X30sZmlsZQ%3D%3D?line=0'>1</a>\u001b[0m \u001b[39m# %%\u001b[39;00m\n\u001b[1;32m----> <a href='vscode-notebook-cell:/d%3A/Visual%20Code/OHE_symtomps_data.ipynb#X30sZmlsZQ%3D%3D?line=1'>2</a>\u001b[0m features\u001b[39m.\u001b[39mtail()\n",
      "\u001b[1;31mNameError\u001b[0m: name 'features' is not defined"
     ]
    }
   ],
   "source": [
    "# %%\n",
    "features.tail()"
   ]
  },
  {
   "cell_type": "code",
   "execution_count": null,
   "metadata": {},
   "outputs": [],
   "source": [
    "# %%\n",
    "pd.concat([anonymous_data, features], axis=1)"
   ]
  },
  {
   "cell_type": "code",
   "execution_count": null,
   "metadata": {},
   "outputs": [],
   "source": [
    "# %%\n",
    "anonymous_data_new_dataset = pd.concat([anonymous_data, features], axis=1)"
   ]
  },
  {
   "cell_type": "code",
   "execution_count": null,
   "metadata": {},
   "outputs": [],
   "source": [
    "anonymous_data_new_dataset.head()"
   ]
  }
 ],
 "metadata": {
  "kernelspec": {
   "display_name": "Python 3.9.12 ('base')",
   "language": "python",
   "name": "python3"
  },
  "language_info": {
   "codemirror_mode": {
    "name": "ipython",
    "version": 3
   },
   "file_extension": ".py",
   "mimetype": "text/x-python",
   "name": "python",
   "nbconvert_exporter": "python",
   "pygments_lexer": "ipython3",
   "version": "3.9.12"
  },
  "orig_nbformat": 4,
  "vscode": {
   "interpreter": {
    "hash": "88279d2366fe020547cde40dd65aa0e3aa662a6ec1f3ca12d88834876c85e1a6"
   }
  }
 },
 "nbformat": 4,
 "nbformat_minor": 2
}
